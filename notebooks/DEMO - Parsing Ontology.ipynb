{
 "cells": [
  {
   "cell_type": "markdown",
   "metadata": {},
   "source": [
    "## Example of parsing an ontology"
   ]
  },
  {
   "cell_type": "markdown",
   "metadata": {},
   "source": [
    "* To run this notebook, you can execute the entire file at once or run each cell individually.\n",
    "    * To run all cells in the notebook, select Run from the top menu bar and select \"Run All Cells\"\n",
    "    * Run each cell individually, by selecting the cell and click the run arrow/play icon at the top of this page."
   ]
  },
  {
   "cell_type": "code",
   "execution_count": 1,
   "metadata": {
    "tags": []
   },
   "outputs": [
    {
     "ename": "AttributeError",
     "evalue": "'NoneType' object has no attribute 'get_crypto'",
     "output_type": "error",
     "traceback": [
      "\u001b[0;31m---------------------------------------------------------------------------\u001b[0m",
      "\u001b[0;31mAttributeError\u001b[0m                            Traceback (most recent call last)",
      "Cell \u001b[0;32mIn[1], line 1\u001b[0m\n\u001b[0;32m----> 1\u001b[0m \u001b[38;5;28;01mfrom\u001b[39;00m \u001b[38;5;21;01mnotebooks\u001b[39;00m \u001b[38;5;28;01mimport\u001b[39;00m \u001b[38;5;241m*\u001b[39m\n\u001b[1;32m      2\u001b[0m \u001b[38;5;28;01mimport\u001b[39;00m \u001b[38;5;21;01mlogging\u001b[39;00m\n\u001b[1;32m      3\u001b[0m \u001b[38;5;28;01mfrom\u001b[39;00m \u001b[38;5;21;01mpprint\u001b[39;00m \u001b[38;5;28;01mimport\u001b[39;00m pprint\n",
      "File \u001b[0;32m/workspaces/public-ontology-registry/notebooks/__init__.py:15\u001b[0m\n\u001b[1;32m     12\u001b[0m \u001b[38;5;28;01mimport\u001b[39;00m \u001b[38;5;21;01mlogging\u001b[39;00m\n\u001b[1;32m     14\u001b[0m bast_config \u001b[38;5;241m=\u001b[39m get_bast_config()\n\u001b[0;32m---> 15\u001b[0m crypto \u001b[38;5;241m=\u001b[39m \u001b[43mbast_config\u001b[49m\u001b[38;5;241;43m.\u001b[39;49m\u001b[43mget_crypto\u001b[49m()\n\u001b[1;32m     16\u001b[0m openai_agent \u001b[38;5;241m=\u001b[39m getOpenAIAgent(bast_config\u001b[38;5;241m.\u001b[39mget_openai())\n\u001b[1;32m     17\u001b[0m vectordb \u001b[38;5;241m=\u001b[39m getVectorDBClient(bast_config\u001b[38;5;241m.\u001b[39mget_milvus())\n",
      "\u001b[0;31mAttributeError\u001b[0m: 'NoneType' object has no attribute 'get_crypto'"
     ]
    }
   ],
   "source": [
    "from notebooks import *\n",
    "import logging\n",
    "from pprint import pprint"
   ]
  },
  {
   "cell_type": "markdown",
   "metadata": {},
   "source": [
    "### Define parameters to run\n",
    "\n",
    "- `data_file`: Where we have the raw data file stored\n",
    "- `data_path`: Folder where we have the processed data stored\n",
    "- `domain` : Domain we want to create for the ontology\n",
    "- `ontology_name`: Name of the ontology\n",
    "- `ontology_path`: Folder where we have the generated ontology stored"
   ]
  },
  {
   "cell_type": "code",
   "execution_count": null,
   "metadata": {
    "tags": []
   },
   "outputs": [],
   "source": [
    "data_folder = '../data'\n",
    "ontology_name='us_city'\n",
    "ontology_path=f'{data_folder}/ontologies/us_citiy'"
   ]
  },
  {
   "cell_type": "markdown",
   "metadata": {
    "tags": []
   },
   "source": [
    "### <font color='green'> Update the text string below with any free form text to be analyzed by the skills ontology. </font>"
   ]
  },
  {
   "cell_type": "code",
   "execution_count": null,
   "metadata": {
    "tags": []
   },
   "outputs": [],
   "source": [
    "test_string = \"\"\"\n",
    "I love traveling to many states especially seattle, Washington.\n",
    "\n",
    "\"\"\""
   ]
  },
  {
   "cell_type": "markdown",
   "metadata": {},
   "source": [
    "### Process text to extract entities (skills)"
   ]
  },
  {
   "cell_type": "code",
   "execution_count": null,
   "metadata": {
    "collapsed": true,
    "jupyter": {
     "outputs_hidden": true
    },
    "tags": []
   },
   "outputs": [],
   "source": [
    "#iGenerator = getInferenceGenerator(ontology_name,ontology_path)\n",
    "#gGenerator = getGraphGenerator(ontology_name,ontology_path)\n",
    "entities = parse(ontology_name, ontology_path, test_string)"
   ]
  },
  {
   "cell_type": "markdown",
   "metadata": {
    "tags": []
   },
   "source": [
    "### <font color='green'>All entities (skills) extracted from the text (resume) are listed below</font>"
   ]
  },
  {
   "cell_type": "code",
   "execution_count": null,
   "metadata": {
    "tags": []
   },
   "outputs": [],
   "source": [
    "for e in entities:\n",
    "    print (e)"
   ]
  },
  {
   "cell_type": "markdown",
   "metadata": {},
   "source": [
    "### Identify infered skills based on proximity in onotology and generate a graph"
   ]
  },
  {
   "cell_type": "code",
   "execution_count": null,
   "metadata": {
    "scrolled": true,
    "tags": []
   },
   "outputs": [],
   "source": [
    "# source_entities = entities\n",
    "\n",
    "# inferences_df = iGenerator.get_inferences(source_entities, 1)\n",
    "\n",
    "# pd.set_option('display.max_rows', None)\n",
    "# inferences_df"
   ]
  },
  {
   "cell_type": "code",
   "execution_count": null,
   "metadata": {
    "tags": []
   },
   "outputs": [],
   "source": [
    "# graph = gGenerator.get_graph(inferences_df)\n",
    "\n",
    "# graph.show(f'{ontology_name}.html')"
   ]
  }
 ],
 "metadata": {
  "kernelspec": {
   "display_name": "Python 3 (ipykernel)",
   "language": "python",
   "name": "python3"
  },
  "language_info": {
   "codemirror_mode": {
    "name": "ipython",
    "version": 3
   },
   "file_extension": ".py",
   "mimetype": "text/x-python",
   "name": "python",
   "nbconvert_exporter": "python",
   "pygments_lexer": "ipython3",
   "version": "3.10.14"
  },
  "vscode": {
   "interpreter": {
    "hash": "7139000406a5aa8fd537c0eb78e5d3e017a1a7373d355ba3ee0c7892a53ff2f6"
   }
  }
 },
 "nbformat": 4,
 "nbformat_minor": 4
}

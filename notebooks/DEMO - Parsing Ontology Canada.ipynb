{
 "cells": [
  {
   "cell_type": "markdown",
   "metadata": {},
   "source": [
    "## Example of parsing an ontology"
   ]
  },
  {
   "cell_type": "markdown",
   "metadata": {},
   "source": [
    "* To run this notebook, you can execute the entire file at once or run each cell individually.\n",
    "    * To run all cells in the notebook, select Run from the top menu bar and select \"Run All Cells\"\n",
    "    * Run each cell individually, by selecting the cell and click the run arrow/play icon at the top of this page."
   ]
  },
  {
   "cell_type": "code",
   "execution_count": 87,
   "metadata": {
    "tags": []
   },
   "outputs": [],
   "source": [
    "from notebooks import *\n",
    "import logging\n",
    "from pprint import pprint"
   ]
  },
  {
   "cell_type": "markdown",
   "metadata": {},
   "source": [
    "### Define parameters to run\n",
    "\n",
    "- `data_file`: Where we have the raw data file stored\n",
    "- `data_path`: Folder where we have the processed data stored\n",
    "- `domain` : Domain we want to create for the ontology\n",
    "- `ontology_name`: Name of the ontology\n",
    "- `ontology_path`: Folder where we have the generated ontology stored"
   ]
  },
  {
   "cell_type": "code",
   "execution_count": 88,
   "metadata": {
    "tags": []
   },
   "outputs": [],
   "source": [
    "data_folder = '../data'\n",
    "ontology_name='canada_city'\n",
    "ontology_path=f'../ontologies/canada_city'"
   ]
  },
  {
   "cell_type": "markdown",
   "metadata": {
    "tags": []
   },
   "source": [
    "### <font color='green'> Update the text string below with any free form text to be analyzed by the skills ontology. </font>"
   ]
  },
  {
   "cell_type": "code",
   "execution_count": 89,
   "metadata": {
    "tags": []
   },
   "outputs": [],
   "source": [
    "test_string = \"\"\"\n",
    "I love traveling to many states especially Val-dOr, Quebec.\n",
    "\n",
    "\"\"\""
   ]
  },
  {
   "cell_type": "markdown",
   "metadata": {},
   "source": [
    "### Process text to extract entities (skills)"
   ]
  },
  {
   "cell_type": "code",
   "execution_count": 90,
   "metadata": {
    "collapsed": true,
    "jupyter": {
     "outputs_hidden": true
    },
    "tags": []
   },
   "outputs": [
    {
     "name": "stderr",
     "output_type": "stream",
     "text": [
      "2024-09-20 19:11:26,258 : INFO : segmenter.py : input_text() : 62 : Segmentation of Input Text Complete\n",
      "\tTotal Paragraphs: 1\n",
      "\tTotal Time: 7570.06μs\n"
     ]
    },
    {
     "name": "stderr",
     "output_type": "stream",
     "text": [
      "2024-09-20 19:11:26,805 : INFO : parse_input_tokens.py : process() : 59 : Input Token Parsing Completed\n",
      "\tTotal Tokens: 13\n",
      "\tTotal Time: 545785.67μs\n",
      "2024-09-20 19:11:26,806 : DEBUG : sliding_window_extract.py : process() : 56 : Sliding Window Extract Completed for gram-size 5 with 9 results in 7.56μs\n",
      "2024-09-20 19:11:26,807 : DEBUG : sliding_window_lookup.py : process() : 52 : Sliding Window Lookup Completed for gram-size 5 with no results in 25.48μs\n",
      "2024-09-20 19:11:26,807 : DEBUG : exact_match_finder.py : process() : 101 : Sliding Window Completed gram-size=5, total-results=0 in 1366.02μs\n",
      "2024-09-20 19:11:26,808 : DEBUG : sliding_window_extract.py : process() : 56 : Sliding Window Extract Completed for gram-size 4 with 10 results in 8.33μs\n",
      "2024-09-20 19:11:26,809 : DEBUG : sliding_window_lookup.py : process() : 52 : Sliding Window Lookup Completed for gram-size 4 with no results in 22.65μs\n",
      "2024-09-20 19:11:26,810 : DEBUG : exact_match_finder.py : process() : 101 : Sliding Window Completed gram-size=4, total-results=0 in 1511.71μs\n",
      "2024-09-20 19:11:26,810 : DEBUG : sliding_window_extract.py : process() : 56 : Sliding Window Extract Completed for gram-size 3 with 11 results in 7.72μs\n",
      "2024-09-20 19:11:26,811 : DEBUG : sliding_window_lookup.py : process() : 52 : Sliding Window Lookup Completed for gram-size 3 with no results in 27.82μs\n",
      "2024-09-20 19:11:26,812 : DEBUG : exact_match_finder.py : process() : 101 : Sliding Window Completed gram-size=3, total-results=0 in 1506.42μs\n",
      "2024-09-20 19:11:26,812 : DEBUG : sliding_window_extract.py : process() : 56 : Sliding Window Extract Completed for gram-size 2 with 12 results in 7.77μs\n",
      "2024-09-20 19:11:26,813 : DEBUG : sliding_window_lookup.py : process() : 52 : Sliding Window Lookup Completed for gram-size 2 with no results in 96.97μs\n",
      "2024-09-20 19:11:26,814 : DEBUG : exact_match_finder.py : process() : 101 : Sliding Window Completed gram-size=2, total-results=0 in 1789.53μs\n",
      "2024-09-20 19:11:26,815 : DEBUG : sliding_window_extract.py : process() : 56 : Sliding Window Extract Completed for gram-size 1 with 13 results in 5.20μs\n",
      "2024-09-20 19:11:26,816 : DEBUG : sliding_window_lookup.py : process() : 58 : Sliding Window Lookup Completed for gram-size 1 with 1 results in 449.67μs\n",
      "2024-09-20 19:11:26,817 : DEBUG : exact_match_finder.py : process() : 101 : Sliding Window Completed gram-size=1, total-results=1 in 1681.48μs\n",
      "2024-09-20 19:11:26,817 : DEBUG : sliding_window_extract.py : process() : 56 : Sliding Window Extract Completed for gram-size 5 with 9 results in 6.74μs\n",
      "2024-09-20 19:11:26,818 : DEBUG : sliding_window_lookup.py : process() : 52 : Sliding Window Lookup Completed for gram-size 5 with no results in 15.05μs\n",
      "2024-09-20 19:11:26,819 : DEBUG : exact_match_finder.py : process() : 101 : Sliding Window Completed gram-size=5, total-results=0 in 1706.97μs\n",
      "2024-09-20 19:11:26,819 : DEBUG : sliding_window_extract.py : process() : 56 : Sliding Window Extract Completed for gram-size 4 with 10 results in 7.45μs\n",
      "2024-09-20 19:11:26,820 : DEBUG : sliding_window_lookup.py : process() : 52 : Sliding Window Lookup Completed for gram-size 4 with no results in 24.77μs\n",
      "2024-09-20 19:11:26,820 : DEBUG : exact_match_finder.py : process() : 101 : Sliding Window Completed gram-size=4, total-results=0 in 1091.56μs\n",
      "2024-09-20 19:11:26,821 : DEBUG : sliding_window_extract.py : process() : 56 : Sliding Window Extract Completed for gram-size 3 with 11 results in 12.69μs\n",
      "2024-09-20 19:11:26,821 : DEBUG : sliding_window_lookup.py : process() : 52 : Sliding Window Lookup Completed for gram-size 3 with no results in 35.91μs\n",
      "2024-09-20 19:11:26,822 : DEBUG : exact_match_finder.py : process() : 101 : Sliding Window Completed gram-size=3, total-results=0 in 1277.23μs\n",
      "2024-09-20 19:11:26,824 : DEBUG : sliding_window_extract.py : process() : 56 : Sliding Window Extract Completed for gram-size 2 with 12 results in 8.50μs\n",
      "2024-09-20 19:11:26,824 : DEBUG : sliding_window_lookup.py : process() : 52 : Sliding Window Lookup Completed for gram-size 2 with no results in 103.71μs\n",
      "2024-09-20 19:11:26,825 : DEBUG : exact_match_finder.py : process() : 101 : Sliding Window Completed gram-size=2, total-results=0 in 1218.14μs\n",
      "2024-09-20 19:11:26,826 : DEBUG : sliding_window_extract.py : process() : 56 : Sliding Window Extract Completed for gram-size 1 with 13 results in 5.47μs\n",
      "2024-09-20 19:11:26,827 : DEBUG : sliding_window_lookup.py : process() : 52 : Sliding Window Lookup Completed for gram-size 1 with no results in 196.34μs\n",
      "2024-09-20 19:11:26,828 : DEBUG : exact_match_finder.py : process() : 101 : Sliding Window Completed gram-size=1, total-results=0 in 1901.60μs\n",
      "2024-09-20 19:11:26,828 : INFO : perform_exact_matching.py : process() : 114 : Exact Swapping Completed: (['i', 'love', 'traveling', 'to', 'many', 'states', 'especially', 'val', '-', 'dor', ',', 'qc', '.']) in 22261.79μs\n",
      "2024-09-20 19:11:26,829 : DEBUG : span_content_check.py : process() : 94 : Span Content Check Completed for 0 rules in 24.91μs\n",
      "2024-09-20 19:11:26,829 : DEBUG : span_match_finder.py : process() : 88 : Span Match Finder Completed: (<function SpanMatchFinder.process.<locals>.total_results at 0x7a16e2307d00>) in 491.76μs\n",
      "2024-09-20 19:11:26,830 : DEBUG : perform_span_matching.py : process() : 91 : Span Swapping Completed in 1190.59μs\n",
      "2024-09-20 19:11:26,831 : DEBUG : sliding_window_extract.py : process() : 56 : Sliding Window Extract Completed for gram-size 9 with 5 results in 6.71μs\n",
      "2024-09-20 19:11:26,832 : DEBUG : hierarchy_match_finder.py : process() : 80 : Hierarchy Match Finding Completed in 469.10μs\n",
      "2024-09-20 19:11:26,832 : DEBUG : sliding_window_extract.py : process() : 56 : Sliding Window Extract Completed for gram-size 8 with 6 results in 6.50μs\n",
      "2024-09-20 19:11:26,833 : DEBUG : hierarchy_match_finder.py : process() : 80 : Hierarchy Match Finding Completed in 516.74μs\n",
      "2024-09-20 19:11:26,834 : DEBUG : sliding_window_extract.py : process() : 56 : Sliding Window Extract Completed for gram-size 7 with 7 results in 6.83μs\n",
      "2024-09-20 19:11:26,835 : DEBUG : hierarchy_match_finder.py : process() : 80 : Hierarchy Match Finding Completed in 643.01μs\n",
      "2024-09-20 19:11:26,835 : DEBUG : sliding_window_extract.py : process() : 56 : Sliding Window Extract Completed for gram-size 6 with 8 results in 10.66μs\n",
      "2024-09-20 19:11:26,836 : DEBUG : hierarchy_match_finder.py : process() : 80 : Hierarchy Match Finding Completed in 674.43μs\n",
      "2024-09-20 19:11:26,836 : DEBUG : sliding_window_extract.py : process() : 56 : Sliding Window Extract Completed for gram-size 5 with 9 results in 7.05μs\n",
      "2024-09-20 19:11:26,837 : DEBUG : hierarchy_match_finder.py : process() : 80 : Hierarchy Match Finding Completed in 698.83μs\n",
      "2024-09-20 19:11:26,838 : DEBUG : sliding_window_extract.py : process() : 56 : Sliding Window Extract Completed for gram-size 4 with 10 results in 7.43μs\n",
      "2024-09-20 19:11:26,839 : DEBUG : hierarchy_match_finder.py : process() : 80 : Hierarchy Match Finding Completed in 708.26μs\n",
      "2024-09-20 19:11:26,839 : DEBUG : sliding_window_extract.py : process() : 56 : Sliding Window Extract Completed for gram-size 3 with 11 results in 11.44μs\n",
      "2024-09-20 19:11:26,840 : DEBUG : hierarchy_match_finder.py : process() : 80 : Hierarchy Match Finding Completed in 514.93μs\n",
      "2024-09-20 19:11:26,840 : DEBUG : sliding_window_extract.py : process() : 56 : Sliding Window Extract Completed for gram-size 2 with 12 results in 12.59μs\n",
      "2024-09-20 19:11:26,841 : DEBUG : hierarchy_match_finder.py : process() : 80 : Hierarchy Match Finding Completed in 768.11μs\n",
      "2024-09-20 19:11:26,841 : DEBUG : perform_hierarchy_matching.py : process() : 75 : Exact Swapping Completed in 10141.31μs\n",
      "2024-09-20 19:11:26,842 : DEBUG : sliding_window_extract.py : process() : 56 : Sliding Window Extract Completed for gram-size 5 with 9 results in 9.57μs\n",
      "2024-09-20 19:11:26,843 : DEBUG : sliding_window_lookup.py : process() : 52 : Sliding Window Lookup Completed for gram-size 5 with no results in 15.20μs\n",
      "2024-09-20 19:11:26,843 : DEBUG : exact_match_finder.py : process() : 101 : Sliding Window Completed gram-size=5, total-results=0 in 1068.70μs\n",
      "2024-09-20 19:11:26,844 : DEBUG : sliding_window_extract.py : process() : 56 : Sliding Window Extract Completed for gram-size 4 with 10 results in 7.65μs\n",
      "2024-09-20 19:11:26,844 : DEBUG : sliding_window_lookup.py : process() : 52 : Sliding Window Lookup Completed for gram-size 4 with no results in 21.89μs\n",
      "2024-09-20 19:11:26,845 : DEBUG : exact_match_finder.py : process() : 101 : Sliding Window Completed gram-size=4, total-results=0 in 1127.46μs\n",
      "2024-09-20 19:11:26,845 : DEBUG : sliding_window_extract.py : process() : 56 : Sliding Window Extract Completed for gram-size 3 with 11 results in 12.58μs\n",
      "2024-09-20 19:11:26,846 : DEBUG : sliding_window_lookup.py : process() : 52 : Sliding Window Lookup Completed for gram-size 3 with no results in 25.49μs\n",
      "2024-09-20 19:11:26,846 : DEBUG : exact_match_finder.py : process() : 101 : Sliding Window Completed gram-size=3, total-results=0 in 1009.28μs\n",
      "2024-09-20 19:11:26,847 : DEBUG : sliding_window_extract.py : process() : 56 : Sliding Window Extract Completed for gram-size 2 with 12 results in 8.71μs\n",
      "2024-09-20 19:11:26,847 : DEBUG : sliding_window_lookup.py : process() : 52 : Sliding Window Lookup Completed for gram-size 2 with no results in 81.05μs\n",
      "2024-09-20 19:11:26,848 : DEBUG : exact_match_finder.py : process() : 101 : Sliding Window Completed gram-size=2, total-results=0 in 999.91μs\n",
      "2024-09-20 19:11:26,848 : DEBUG : sliding_window_extract.py : process() : 56 : Sliding Window Extract Completed for gram-size 1 with 13 results in 8.64μs\n",
      "2024-09-20 19:11:26,853 : DEBUG : sliding_window_lookup.py : process() : 52 : Sliding Window Lookup Completed for gram-size 1 with no results in 223.77μs\n",
      "2024-09-20 19:11:26,853 : DEBUG : exact_match_finder.py : process() : 101 : Sliding Window Completed gram-size=1, total-results=0 in 4729.01μs\n",
      "2024-09-20 19:11:26,854 : INFO : perform_exact_matching.py : process() : 114 : Exact Swapping Completed: (['i', 'love', 'traveling', 'to', 'many', 'states', 'especially', 'val', '-', 'dor', ',', 'qc', '.']) in 11592.57μs\n",
      "2024-09-20 19:11:26,854 : DEBUG : span_content_check.py : process() : 94 : Span Content Check Completed for 0 rules in 29.29μs\n",
      "2024-09-20 19:11:26,855 : DEBUG : span_match_finder.py : process() : 88 : Span Match Finder Completed: (<function SpanMatchFinder.process.<locals>.total_results at 0x7a16e23049d0>) in 597.89μs\n",
      "2024-09-20 19:11:26,855 : DEBUG : perform_span_matching.py : process() : 91 : Span Swapping Completed in 1213.62μs\n",
      "2024-09-20 19:11:26,856 : DEBUG : sliding_window_extract.py : process() : 56 : Sliding Window Extract Completed for gram-size 9 with 5 results in 9.92μs\n",
      "2024-09-20 19:11:26,858 : DEBUG : hierarchy_match_finder.py : process() : 80 : Hierarchy Match Finding Completed in 2466.12μs\n",
      "2024-09-20 19:11:26,859 : DEBUG : sliding_window_extract.py : process() : 56 : Sliding Window Extract Completed for gram-size 8 with 6 results in 6.64μs\n",
      "2024-09-20 19:11:26,860 : DEBUG : hierarchy_match_finder.py : process() : 80 : Hierarchy Match Finding Completed in 507.47μs\n",
      "2024-09-20 19:11:26,860 : DEBUG : sliding_window_extract.py : process() : 56 : Sliding Window Extract Completed for gram-size 7 with 7 results in 6.53μs\n",
      "2024-09-20 19:11:26,861 : DEBUG : hierarchy_match_finder.py : process() : 80 : Hierarchy Match Finding Completed in 643.00μs\n",
      "2024-09-20 19:11:26,861 : DEBUG : sliding_window_extract.py : process() : 56 : Sliding Window Extract Completed for gram-size 6 with 8 results in 6.83μs\n",
      "2024-09-20 19:11:26,862 : DEBUG : hierarchy_match_finder.py : process() : 80 : Hierarchy Match Finding Completed in 575.40μs\n",
      "2024-09-20 19:11:26,863 : DEBUG : sliding_window_extract.py : process() : 56 : Sliding Window Extract Completed for gram-size 5 with 9 results in 10.76μs\n",
      "2024-09-20 19:11:26,863 : DEBUG : hierarchy_match_finder.py : process() : 80 : Hierarchy Match Finding Completed in 734.31μs\n",
      "2024-09-20 19:11:26,864 : DEBUG : sliding_window_extract.py : process() : 56 : Sliding Window Extract Completed for gram-size 4 with 10 results in 11.18μs\n",
      "2024-09-20 19:11:26,865 : DEBUG : hierarchy_match_finder.py : process() : 80 : Hierarchy Match Finding Completed in 661.96μs\n",
      "2024-09-20 19:11:26,865 : DEBUG : sliding_window_extract.py : process() : 56 : Sliding Window Extract Completed for gram-size 3 with 11 results in 11.56μs\n",
      "2024-09-20 19:11:26,866 : DEBUG : hierarchy_match_finder.py : process() : 80 : Hierarchy Match Finding Completed in 713.47μs\n",
      "2024-09-20 19:11:26,867 : DEBUG : sliding_window_extract.py : process() : 56 : Sliding Window Extract Completed for gram-size 2 with 12 results in 8.45μs\n",
      "2024-09-20 19:11:26,867 : DEBUG : hierarchy_match_finder.py : process() : 80 : Hierarchy Match Finding Completed in 504.25μs\n",
      "2024-09-20 19:11:26,868 : DEBUG : perform_hierarchy_matching.py : process() : 75 : Exact Swapping Completed in 11762.35μs\n",
      "2024-09-20 19:11:26,868 : DEBUG : sliding_window_extract.py : process() : 56 : Sliding Window Extract Completed for gram-size 5 with 9 results in 10.42μs\n",
      "2024-09-20 19:11:26,869 : DEBUG : sliding_window_lookup.py : process() : 52 : Sliding Window Lookup Completed for gram-size 5 with no results in 16.37μs\n",
      "2024-09-20 19:11:26,869 : DEBUG : exact_match_finder.py : process() : 101 : Sliding Window Completed gram-size=5, total-results=0 in 1180.46μs\n",
      "2024-09-20 19:11:26,870 : DEBUG : sliding_window_extract.py : process() : 56 : Sliding Window Extract Completed for gram-size 4 with 10 results in 10.13μs\n",
      "2024-09-20 19:11:26,871 : DEBUG : sliding_window_lookup.py : process() : 52 : Sliding Window Lookup Completed for gram-size 4 with no results in 21.55μs\n",
      "2024-09-20 19:11:26,871 : DEBUG : exact_match_finder.py : process() : 101 : Sliding Window Completed gram-size=4, total-results=0 in 1055.11μs\n",
      "2024-09-20 19:11:26,872 : DEBUG : sliding_window_extract.py : process() : 56 : Sliding Window Extract Completed for gram-size 3 with 11 results in 12.87μs\n",
      "2024-09-20 19:11:26,872 : DEBUG : sliding_window_lookup.py : process() : 52 : Sliding Window Lookup Completed for gram-size 3 with no results in 26.24μs\n",
      "2024-09-20 19:11:26,873 : DEBUG : exact_match_finder.py : process() : 101 : Sliding Window Completed gram-size=3, total-results=0 in 1159.25μs\n",
      "2024-09-20 19:11:26,873 : DEBUG : sliding_window_extract.py : process() : 56 : Sliding Window Extract Completed for gram-size 2 with 12 results in 13.07μs\n",
      "2024-09-20 19:11:26,874 : DEBUG : sliding_window_lookup.py : process() : 52 : Sliding Window Lookup Completed for gram-size 2 with no results in 103.64μs\n",
      "2024-09-20 19:11:26,875 : DEBUG : exact_match_finder.py : process() : 101 : Sliding Window Completed gram-size=2, total-results=0 in 1223.26μs\n",
      "2024-09-20 19:11:26,875 : DEBUG : sliding_window_extract.py : process() : 56 : Sliding Window Extract Completed for gram-size 1 with 13 results in 7.72μs\n",
      "2024-09-20 19:11:26,876 : DEBUG : sliding_window_lookup.py : process() : 52 : Sliding Window Lookup Completed for gram-size 1 with no results in 286.04μs\n",
      "2024-09-20 19:11:26,877 : DEBUG : exact_match_finder.py : process() : 101 : Sliding Window Completed gram-size=1, total-results=0 in 1678.52μs\n",
      "2024-09-20 19:11:26,877 : INFO : perform_exact_matching.py : process() : 114 : Exact Swapping Completed: (['i', 'love', 'traveling', 'to', 'many', 'states', 'especially', 'val', '-', 'dor', ',', 'qc', '.']) in 9209.96μs\n",
      "2024-09-20 19:11:26,880 : DEBUG : span_content_check.py : process() : 94 : Span Content Check Completed for 0 rules in 36.43μs\n",
      "2024-09-20 19:11:26,880 : DEBUG : span_match_finder.py : process() : 88 : Span Match Finder Completed: (<function SpanMatchFinder.process.<locals>.total_results at 0x7a16e23049d0>) in 578.60μs\n",
      "2024-09-20 19:11:26,881 : DEBUG : perform_span_matching.py : process() : 91 : Span Swapping Completed in 1165.82μs\n",
      "2024-09-20 19:11:26,881 : DEBUG : sliding_window_extract.py : process() : 56 : Sliding Window Extract Completed for gram-size 9 with 5 results in 6.14μs\n",
      "2024-09-20 19:11:26,882 : DEBUG : hierarchy_match_finder.py : process() : 80 : Hierarchy Match Finding Completed in 728.44μs\n",
      "2024-09-20 19:11:26,883 : DEBUG : sliding_window_extract.py : process() : 56 : Sliding Window Extract Completed for gram-size 8 with 6 results in 6.35μs\n",
      "2024-09-20 19:11:26,887 : DEBUG : hierarchy_match_finder.py : process() : 80 : Hierarchy Match Finding Completed in 4153.62μs\n",
      "2024-09-20 19:11:26,887 : DEBUG : sliding_window_extract.py : process() : 56 : Sliding Window Extract Completed for gram-size 7 with 7 results in 6.20μs\n",
      "2024-09-20 19:11:26,888 : DEBUG : hierarchy_match_finder.py : process() : 80 : Hierarchy Match Finding Completed in 774.88μs\n",
      "2024-09-20 19:11:26,889 : DEBUG : sliding_window_extract.py : process() : 56 : Sliding Window Extract Completed for gram-size 6 with 8 results in 6.65μs\n",
      "2024-09-20 19:11:26,889 : DEBUG : hierarchy_match_finder.py : process() : 80 : Hierarchy Match Finding Completed in 737.42μs\n",
      "2024-09-20 19:11:26,890 : DEBUG : sliding_window_extract.py : process() : 56 : Sliding Window Extract Completed for gram-size 5 with 9 results in 7.13μs\n",
      "2024-09-20 19:11:26,891 : DEBUG : hierarchy_match_finder.py : process() : 80 : Hierarchy Match Finding Completed in 1427.67μs\n",
      "2024-09-20 19:11:26,892 : DEBUG : sliding_window_extract.py : process() : 56 : Sliding Window Extract Completed for gram-size 4 with 10 results in 7.32μs\n",
      "2024-09-20 19:11:26,892 : DEBUG : hierarchy_match_finder.py : process() : 80 : Hierarchy Match Finding Completed in 768.71μs\n",
      "2024-09-20 19:11:26,893 : DEBUG : sliding_window_extract.py : process() : 56 : Sliding Window Extract Completed for gram-size 3 with 11 results in 11.03μs\n",
      "2024-09-20 19:11:26,894 : DEBUG : hierarchy_match_finder.py : process() : 80 : Hierarchy Match Finding Completed in 731.11μs\n",
      "2024-09-20 19:11:26,896 : DEBUG : sliding_window_extract.py : process() : 56 : Sliding Window Extract Completed for gram-size 2 with 12 results in 8.05μs\n",
      "2024-09-20 19:11:26,896 : DEBUG : hierarchy_match_finder.py : process() : 80 : Hierarchy Match Finding Completed in 938.38μs\n",
      "2024-09-20 19:11:26,897 : DEBUG : perform_hierarchy_matching.py : process() : 75 : Exact Swapping Completed in 15518.65μs\n",
      "2024-09-20 19:11:26,898 : DEBUG : mutato_api.py : swap_input_tokens() : 161 : Synonym Swap Completed in 29308.49μs\n",
      "2024-09-20 19:11:26,898 : DEBUG : mutato_api.py : swap_input_tokens() : 161 : Synonym Swap Completed in 56278.28μs\n",
      "2024-09-20 19:11:26,899 : DEBUG : mutato_api.py : swap_input_tokens() : 161 : Synonym Swap Completed in 92984.92μs\n"
     ]
    }
   ],
   "source": [
    "#iGenerator = getInferenceGenerator(ontology_name,ontology_path)\n",
    "#gGenerator = getGraphGenerator(ontology_name,ontology_path)\n",
    "entities = parse(ontology_name, ontology_path, test_string)"
   ]
  },
  {
   "cell_type": "markdown",
   "metadata": {
    "tags": []
   },
   "source": [
    "### <font color='green'>All entities (skills) extracted from the text (resume) are listed below</font>"
   ]
  },
  {
   "cell_type": "code",
   "execution_count": 91,
   "metadata": {
    "tags": []
   },
   "outputs": [
    {
     "name": "stdout",
     "output_type": "stream",
     "text": [
      "qc\n"
     ]
    }
   ],
   "source": [
    "for e in entities:\n",
    "    print (e)"
   ]
  },
  {
   "cell_type": "markdown",
   "metadata": {},
   "source": [
    "### Identify infered skills based on proximity in onotology and generate a graph"
   ]
  },
  {
   "cell_type": "code",
   "execution_count": 92,
   "metadata": {
    "scrolled": true,
    "tags": []
   },
   "outputs": [],
   "source": [
    "# source_entities = entities\n",
    "\n",
    "# inferences_df = iGenerator.get_inferences(source_entities, 1)\n",
    "\n",
    "# pd.set_option('display.max_rows', None)\n",
    "# inferences_df"
   ]
  },
  {
   "cell_type": "code",
   "execution_count": 93,
   "metadata": {
    "tags": []
   },
   "outputs": [],
   "source": [
    "# graph = gGenerator.get_graph(inferences_df)\n",
    "\n",
    "# graph.show(f'{ontology_name}.html')"
   ]
  }
 ],
 "metadata": {
  "kernelspec": {
   "display_name": "Python 3 (ipykernel)",
   "language": "python",
   "name": "python3"
  },
  "language_info": {
   "codemirror_mode": {
    "name": "ipython",
    "version": 3
   },
   "file_extension": ".py",
   "mimetype": "text/x-python",
   "name": "python",
   "nbconvert_exporter": "python",
   "pygments_lexer": "ipython3",
   "version": "3.10.14"
  },
  "vscode": {
   "interpreter": {
    "hash": "7139000406a5aa8fd537c0eb78e5d3e017a1a7373d355ba3ee0c7892a53ff2f6"
   }
  }
 },
 "nbformat": 4,
 "nbformat_minor": 4
}
